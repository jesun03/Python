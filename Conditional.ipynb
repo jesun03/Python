{
  "nbformat": 4,
  "nbformat_minor": 0,
  "metadata": {
    "colab": {
      "provenance": [],
      "authorship_tag": "ABX9TyMuVeWhfg2JwURd3zekMRNA",
      "include_colab_link": true
    },
    "kernelspec": {
      "name": "python3",
      "display_name": "Python 3"
    },
    "language_info": {
      "name": "python"
    }
  },
  "cells": [
    {
      "cell_type": "markdown",
      "metadata": {
        "id": "view-in-github",
        "colab_type": "text"
      },
      "source": [
        "<a href=\"https://colab.research.google.com/github/jesun03/Python/blob/Python-Learning/Conditional.ipynb\" target=\"_parent\"><img src=\"https://colab.research.google.com/assets/colab-badge.svg\" alt=\"Open In Colab\"/></a>"
      ]
    },
    {
      "cell_type": "code",
      "execution_count": 17,
      "metadata": {
        "colab": {
          "base_uri": "https://localhost:8080/"
        },
        "id": "0tChdLxcOKiB",
        "outputId": "c8d7ac5c-0ded-42c5-a47d-8b85cb990da1"
      },
      "outputs": [
        {
          "output_type": "stream",
          "name": "stdout",
          "text": [
            "You don't go Saudi Arabia\n"
          ]
        }
      ],
      "source": [
        "Age = 16\n",
        "\n",
        "if(Age>=18):\n",
        "    print(\"Yon can vote & and apply for licence\")\n",
        "elif(Age<=20):\n",
        "      print(\"You don't go Saudi Arabia\")\n",
        "else:\n",
        "  print(\"You are under age\")\n",
        ""
      ]
    },
    {
      "cell_type": "code",
      "source": [
        "light = input(\"Enter Signal: \")\n",
        "\n",
        "if(light==\"Red\"):\n",
        "  print(\"Don't go\")\n",
        "elif(light==\"Green\"):\n",
        "  print(\"Go\")\n",
        "elif(light==\"Yellow\"):\n",
        "  print(\"Wait and Look\")\n",
        "else:\n",
        "  print(\"No signal\")"
      ],
      "metadata": {
        "colab": {
          "base_uri": "https://localhost:8080/"
        },
        "id": "hqNQJyQnSWKx",
        "outputId": "54f8fdc6-a919-460a-87d8-9aa1d9b37a8c"
      },
      "execution_count": 21,
      "outputs": [
        {
          "output_type": "stream",
          "name": "stdout",
          "text": [
            "Enter Signal: Yellow\n",
            "Wait and Look\n"
          ]
        }
      ]
    },
    {
      "cell_type": "code",
      "source": [
        "marks = int(input(\"Enter the marks: \"))\n",
        "if(marks>=90):\n",
        "  Grade = \"A\"\n",
        "elif(marks>=90 and marks<80):\n",
        "  Grade = \"B\"\n",
        "elif(marks>=70 and marks<80):\n",
        "  Grade = \"C\"\n",
        "else:\n",
        "  Grade = \"D\"\n",
        "\n",
        "print(\"Grade of the student: \",Grade)\n",
        "\n"
      ],
      "metadata": {
        "colab": {
          "base_uri": "https://localhost:8080/"
        },
        "id": "dFJuddzeWY_6",
        "outputId": "d4ef57ce-fc41-4174-9ca2-3e3cfa27a9b6"
      },
      "execution_count": 26,
      "outputs": [
        {
          "output_type": "stream",
          "name": "stdout",
          "text": [
            "Enter the marks: 78\n",
            "Grade of the student:  C\n"
          ]
        }
      ]
    },
    {
      "cell_type": "code",
      "source": [
        "#pp:WAP to input from user and check number is even and odd.\n",
        "num = int(input(\"Enter the number: \"))\n",
        "\n",
        "if(num%2==0):\n",
        "  print(\"Even\")\n",
        "else:\n",
        "  print(\"odd\")"
      ],
      "metadata": {
        "colab": {
          "base_uri": "https://localhost:8080/"
        },
        "id": "PoP1jBLQb0LX",
        "outputId": "d74b6a36-914e-45c0-a76b-4a7652b4b741"
      },
      "execution_count": 29,
      "outputs": [
        {
          "output_type": "stream",
          "name": "stdout",
          "text": [
            "Enter the number: 9\n",
            "odd\n"
          ]
        }
      ]
    },
    {
      "cell_type": "code",
      "source": [
        "#WAP to find the greatest of 3 numbers entered by the user.\n",
        "\n",
        "a = int(input(\"Enter the 1st number: \"))\n",
        "b = int(input(\"Enter the 2nd number: \"))\n",
        "c = int(input(\"Enter the 3rd number: \"))\n",
        "\n",
        "if(a>=b and a>=c):\n",
        "  print(\"1st number is greatest\",a)\n",
        "elif(b>=c):\n",
        "  print(\"2nd number is greatest\",b)\n",
        "else:\n",
        "  print(\"3rd 2number is greatest\",c)"
      ],
      "metadata": {
        "colab": {
          "base_uri": "https://localhost:8080/"
        },
        "id": "-SNnbazRjEoQ",
        "outputId": "670fe485-eea9-4771-d947-249361882994"
      },
      "execution_count": 31,
      "outputs": [
        {
          "output_type": "stream",
          "name": "stdout",
          "text": [
            "Enter the 1st number: 476\n",
            "Enter the 2nd number: 34567\n",
            "Enter the 3rd number: 32\n",
            "2nd number is greatest 34567\n"
          ]
        }
      ]
    },
    {
      "cell_type": "code",
      "source": [
        "#WAP to check if a number is a multiple of 7 or not\n",
        "\n",
        "a = int(input(\"Enter the number: \"))\n",
        "\n",
        "if(a%7==0):\n",
        "  print(\"Multiple by 7\")\n",
        "else:\n",
        "  print(\"Not muliple by 7\")\n"
      ],
      "metadata": {
        "colab": {
          "base_uri": "https://localhost:8080/"
        },
        "id": "yUwf44H5nMfR",
        "outputId": "ca4a459f-9d34-4300-f013-d52dac4203a9"
      },
      "execution_count": 33,
      "outputs": [
        {
          "output_type": "stream",
          "name": "stdout",
          "text": [
            "Enter the number: 14\n",
            "Multiple by 7\n"
          ]
        }
      ]
    }
  ]
}