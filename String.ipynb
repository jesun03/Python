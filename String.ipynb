{
  "nbformat": 4,
  "nbformat_minor": 0,
  "metadata": {
    "colab": {
      "provenance": [],
      "authorship_tag": "ABX9TyOJclc8piiYx+qmBQcthR8D",
      "include_colab_link": true
    },
    "kernelspec": {
      "name": "python3",
      "display_name": "Python 3"
    },
    "language_info": {
      "name": "python"
    }
  },
  "cells": [
    {
      "cell_type": "markdown",
      "metadata": {
        "id": "view-in-github",
        "colab_type": "text"
      },
      "source": [
        "<a href=\"https://colab.research.google.com/github/jesun03/Python/blob/Python-Learning/String.ipynb\" target=\"_parent\"><img src=\"https://colab.research.google.com/assets/colab-badge.svg\" alt=\"Open In Colab\"/></a>"
      ]
    },
    {
      "cell_type": "code",
      "execution_count": null,
      "metadata": {
        "colab": {
          "base_uri": "https://localhost:8080/"
        },
        "id": "waFQXQL44W-G",
        "outputId": "ddd925eb-7fae-4517-e16d-b21a03c67f9c"
      },
      "outputs": [
        {
          "output_type": "stream",
          "name": "stdout",
          "text": [
            "helloworld\n"
          ]
        }
      ],
      "source": [
        "str1 = \"hello\"\n",
        "str2 = \"world\"\n",
        "print(str1+str2)"
      ]
    },
    {
      "cell_type": "code",
      "source": [
        "#Slicing\n",
        "\n",
        "str = \"Northen University\"\n",
        "print(str[0:7])\n",
        "print(str[8:])"
      ],
      "metadata": {
        "colab": {
          "base_uri": "https://localhost:8080/"
        },
        "id": "hI2j9jcn_hHA",
        "outputId": "53a9175b-1676-4831-c05f-3091b3287255"
      },
      "execution_count": null,
      "outputs": [
        {
          "output_type": "stream",
          "name": "stdout",
          "text": [
            "Northen\n",
            "University\n"
          ]
        }
      ]
    },
    {
      "cell_type": "code",
      "source": [
        "#slicing use Negative index\n",
        "\n",
        "str = \"Apple\"\n",
        "print(str[-5:-2])"
      ],
      "metadata": {
        "colab": {
          "base_uri": "https://localhost:8080/"
        },
        "id": "62vBi9otAx_0",
        "outputId": "92309833-0a06-4e7d-9a9e-28e9fa0872f5"
      },
      "execution_count": null,
      "outputs": [
        {
          "output_type": "stream",
          "name": "stdout",
          "text": [
            "App\n"
          ]
        }
      ]
    },
    {
      "cell_type": "code",
      "source": [
        "#string length check\n",
        "str1 = \"Noman\"\n",
        "len1 = len(str1)\n",
        "\n",
        "str2 = \"Norther University\"\n",
        "len2 = len(str2)\n",
        "final_str = str1 + \" \" + str2\n",
        "print(final_str)\n",
        "\n",
        "print(len1)\n",
        "print(len2)"
      ],
      "metadata": {
        "colab": {
          "base_uri": "https://localhost:8080/"
        },
        "id": "58sNEBDgn3zP",
        "outputId": "9a9073ec-392b-4e74-c721-fb674657a4e3"
      },
      "execution_count": null,
      "outputs": [
        {
          "output_type": "stream",
          "name": "stdout",
          "text": [
            "Noman Norther University\n",
            "5\n",
            "18\n"
          ]
        }
      ]
    },
    {
      "cell_type": "code",
      "source": [
        " #replace function\n",
        "str = \"i am student of cse\"\n",
        "print(str.replace(\"e\",\"a\"))"
      ],
      "metadata": {
        "colab": {
          "base_uri": "https://localhost:8080/"
        },
        "id": "URXPGA5qGizR",
        "outputId": "26321cf6-4c39-4f94-dd35-6f26ef9eb45d"
      },
      "execution_count": 4,
      "outputs": [
        {
          "output_type": "stream",
          "name": "stdout",
          "text": [
            "i am studant of csa\n"
          ]
        }
      ]
    },
    {
      "cell_type": "code",
      "source": [
        "#WAP to input user first name & print its length.\n",
        "\n",
        "Name = input(\"Enter the name: \")\n",
        "print(\"Length: \", len(Name))"
      ],
      "metadata": {
        "colab": {
          "base_uri": "https://localhost:8080/"
        },
        "id": "fishYLVpJ6vd",
        "outputId": "e4ff73a0-8c7c-4c14-9b9c-54ded0a6f7b8"
      },
      "execution_count": 15,
      "outputs": [
        {
          "output_type": "stream",
          "name": "stdout",
          "text": [
            "Enter the name: Noman\n",
            "Length:  5\n"
          ]
        }
      ]
    },
    {
      "cell_type": "code",
      "source": [
        "#WAP to find the occurrance of '$' in a string.\n",
        "\n",
        "str = \"i paid 168$, jamil will pay 20$ and rohan will pay 143$.finally $ will be paid\"\n",
        "print(str.count(\"$\"))"
      ],
      "metadata": {
        "colab": {
          "base_uri": "https://localhost:8080/"
        },
        "id": "Ubk7b2pzLQdG",
        "outputId": "012d9555-1653-47ac-dad6-1e4780843b59"
      },
      "execution_count": 14,
      "outputs": [
        {
          "output_type": "stream",
          "name": "stdout",
          "text": [
            "4\n"
          ]
        }
      ]
    }
  ]
}