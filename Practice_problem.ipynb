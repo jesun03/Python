{
  "nbformat": 4,
  "nbformat_minor": 0,
  "metadata": {
    "colab": {
      "provenance": [],
      "authorship_tag": "ABX9TyO7GPs8KK+oupjlNwwD5Psn",
      "include_colab_link": true
    },
    "kernelspec": {
      "name": "python3",
      "display_name": "Python 3"
    },
    "language_info": {
      "name": "python"
    }
  },
  "cells": [
    {
      "cell_type": "markdown",
      "metadata": {
        "id": "view-in-github",
        "colab_type": "text"
      },
      "source": [
        "<a href=\"https://colab.research.google.com/github/jesun03/Python/blob/Data-types-and-Variable/Practice_problem.ipynb\" target=\"_parent\"><img src=\"https://colab.research.google.com/assets/colab-badge.svg\" alt=\"Open In Colab\"/></a>"
      ]
    },
    {
      "cell_type": "code",
      "execution_count": 6,
      "metadata": {
        "colab": {
          "base_uri": "https://localhost:8080/"
        },
        "id": "ka-Qtr-L8Iob",
        "outputId": "cd3964a6-d668-4fc6-8e22-c3dcb6224af6"
      },
      "outputs": [
        {
          "output_type": "stream",
          "name": "stdout",
          "text": [
            "Enter num1: 4\n",
            "Enter num2: 6.5\n",
            "sum is =  10.5\n"
          ]
        }
      ],
      "source": [
        "#write a program to input 2 numbers and print their sum\n",
        "\n",
        "num1 = int(input(\"Enter num1: \"))\n",
        "num2 = float(input(\"Enter num2: \"))\n",
        "sum = num1 + num2\n",
        "print(\"sum is = \",sum)"
      ]
    },
    {
      "cell_type": "code",
      "source": [
        "#WAP to input 2 floating point numbers & print their average\n",
        "\n",
        "Num1 = float(input(\"Enter num1: \"))\n",
        "Num2 = float(input(\"Enter num2: \"))\n",
        "average = (Num1 + Num2)/2\n",
        "print(\"Average is = \",average)\n"
      ],
      "metadata": {
        "colab": {
          "base_uri": "https://localhost:8080/"
        },
        "id": "FOCfhEGvBRgo",
        "outputId": "e8c06700-8ad8-4ab9-b546-0aaf7722b7a8"
      },
      "execution_count": 8,
      "outputs": [
        {
          "output_type": "stream",
          "name": "stdout",
          "text": [
            "Enter num1: 4.5\n",
            "Enter num2: 7.5\n",
            "Average is =  6.0\n"
          ]
        }
      ]
    },
    {
      "cell_type": "code",
      "source": [
        "'''WAP to input 2 int numbers a and b . print true if a is greater than or equal b.If not print false'''\n",
        "\n",
        "a = int(input(\"Enter a: \"))\n",
        "b = int(input(\"Enter b: \"))\n",
        "\n",
        "print(a>=b)"
      ],
      "metadata": {
        "colab": {
          "base_uri": "https://localhost:8080/"
        },
        "id": "cTqgftRuEYay",
        "outputId": "082b8510-efb6-4d11-c497-ea4616b77943"
      },
      "execution_count": 10,
      "outputs": [
        {
          "output_type": "stream",
          "name": "stdout",
          "text": [
            "Enter a: 65\n",
            "Enter b: 98\n",
            "False\n"
          ]
        }
      ]
    },
    {
      "cell_type": "code",
      "source": [
        "#WAP to input side of a square and print its area\n",
        "\n",
        "side = int(input(\"Enter side: \"))\n",
        "area = side * side\n",
        "print(\"Area is = \",area)"
      ],
      "metadata": {
        "colab": {
          "base_uri": "https://localhost:8080/"
        },
        "id": "C3vfIcU3-9vv",
        "outputId": "470b2c0c-ad14-419a-9456-ffa353b2e35b"
      },
      "execution_count": 7,
      "outputs": [
        {
          "output_type": "stream",
          "name": "stdout",
          "text": [
            "Enter side: 5\n",
            "Area is =  25\n"
          ]
        }
      ]
    }
  ]
}