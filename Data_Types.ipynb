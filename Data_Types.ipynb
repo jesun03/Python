{
  "nbformat": 4,
  "nbformat_minor": 0,
  "metadata": {
    "colab": {
      "provenance": [],
      "authorship_tag": "ABX9TyNSJ1jg08v/l6unNEK2RSjH",
      "include_colab_link": true
    },
    "kernelspec": {
      "name": "python3",
      "display_name": "Python 3"
    },
    "language_info": {
      "name": "python"
    }
  },
  "cells": [
    {
      "cell_type": "markdown",
      "metadata": {
        "id": "view-in-github",
        "colab_type": "text"
      },
      "source": [
        "<a href=\"https://colab.research.google.com/github/jesun03/Python/blob/main/Data_Types.ipynb\" target=\"_parent\"><img src=\"https://colab.research.google.com/assets/colab-badge.svg\" alt=\"Open In Colab\"/></a>"
      ]
    },
    {
      "cell_type": "code",
      "execution_count": 2,
      "metadata": {
        "colab": {
          "base_uri": "https://localhost:8080/"
        },
        "id": "JcuT_mPoYi8W",
        "outputId": "7d921987-4dd9-4dad-c18c-e6fc3b4985de"
      },
      "outputs": [
        {
          "output_type": "stream",
          "name": "stdout",
          "text": [
            "<class 'str'>\n",
            "<class 'int'>\n",
            "<class 'bool'>\n",
            "<class 'float'>\n",
            "<class 'NoneType'>\n"
          ]
        }
      ],
      "source": [
        "name = \"Noman\"\n",
        "age = 21\n",
        "old = True\n",
        "weight = 65.2\n",
        "a = None\n",
        "\n",
        "print(type(name))\n",
        "print(type(age))\n",
        "print(type(old))\n",
        "print(type(weight))\n",
        "print(type(a))\n"
      ]
    }
  ]
}