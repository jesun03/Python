{
  "nbformat": 4,
  "nbformat_minor": 0,
  "metadata": {
    "colab": {
      "provenance": [],
      "authorship_tag": "ABX9TyPG9ByEjfJjHh+dxuBso6vU",
      "include_colab_link": true
    },
    "kernelspec": {
      "name": "python3",
      "display_name": "Python 3"
    },
    "language_info": {
      "name": "python"
    }
  },
  "cells": [
    {
      "cell_type": "markdown",
      "metadata": {
        "id": "view-in-github",
        "colab_type": "text"
      },
      "source": [
        "<a href=\"https://colab.research.google.com/github/jesun03/Python/blob/Python-Learning/Lists.ipynb\" target=\"_parent\"><img src=\"https://colab.research.google.com/assets/colab-badge.svg\" alt=\"Open In Colab\"/></a>"
      ]
    },
    {
      "cell_type": "code",
      "execution_count": 2,
      "metadata": {
        "colab": {
          "base_uri": "https://localhost:8080/"
        },
        "id": "VySs6FRWGlWM",
        "outputId": "cc236d61-9a10-464f-cf90-1e2ec14d3dc3"
      },
      "outputs": [
        {
          "output_type": "stream",
          "name": "stdout",
          "text": [
            "[45, 87, 36, 56, 98, 76.5, 87.5]\n",
            "<class 'list'>\n",
            "98\n",
            "45\n"
          ]
        }
      ],
      "source": [
        "marks = [45,87,36,56,98,76.5,87.5]\n",
        "print(marks)\n",
        "print(type(marks))\n",
        "print(marks[4])\n",
        "print(marks[0])"
      ]
    },
    {
      "cell_type": "code",
      "source": [
        "student = [\"Rohan\", 89.5, \"Dhaka\"]\n",
        "print(student)\n",
        "student[1] = 90\n",
        "print(student)"
      ],
      "metadata": {
        "colab": {
          "base_uri": "https://localhost:8080/"
        },
        "id": "F1eEpPE2KSZc",
        "outputId": "c989dc2d-c3b0-43a7-901e-4ddf39a6610c"
      },
      "execution_count": 11,
      "outputs": [
        {
          "output_type": "stream",
          "name": "stdout",
          "text": [
            "['Rohan', 89.5, 'Dhaka']\n",
            "['Rohan', 90, 'Dhaka']\n"
          ]
        }
      ]
    },
    {
      "cell_type": "code",
      "source": [
        "#LIst slicings\n",
        "marks = [54,93,56,75,89,64]\n",
        "print(marks[1:5])\n",
        "\n",
        "print(marks[-4:-1])"
      ],
      "metadata": {
        "colab": {
          "base_uri": "https://localhost:8080/"
        },
        "id": "8-S67FdzML0W",
        "outputId": "7a4802ea-042c-43e0-a9b7-8f287ae8137f"
      },
      "execution_count": 10,
      "outputs": [
        {
          "output_type": "stream",
          "name": "stdout",
          "text": [
            "[93, 56, 75, 89]\n",
            "[56, 75, 89]\n"
          ]
        }
      ]
    },
    {
      "cell_type": "code",
      "source": [
        "#Lists_Methods\n",
        "\n",
        "list = [3, 4, 8, 2, 0]\n",
        "list.append(1) #adds on the element at the end\n",
        "print(\"Add Value: \",list)\n",
        "\n",
        "list.sort() #Sorts ascending order\n",
        "print(\"Sorts asending order: \",list)\n",
        "\n",
        "list.sort(reverse=True) #Sorts desending order\n",
        "print(\"Sorts decending order: \",list)\n",
        "\n",
        "list.reverse() #reverse list\n",
        "print(\"Reverse value: \",list)\n",
        "\n",
        "list.insert(5,5) #insert element\n",
        "print(list)\n",
        "\n",
        "list1 = [6,4,6,2] #removes element at idx\n",
        "list1.pop(0)\n",
        "print(list1)"
      ],
      "metadata": {
        "colab": {
          "base_uri": "https://localhost:8080/"
        },
        "id": "bG89FUEMN1Jk",
        "outputId": "70346b40-4f9b-4588-b153-d9eb81450bc9"
      },
      "execution_count": 23,
      "outputs": [
        {
          "output_type": "stream",
          "name": "stdout",
          "text": [
            "Add Value:  [3, 4, 8, 2, 0, 1]\n",
            "Sorts asending order:  [0, 1, 2, 3, 4, 8]\n",
            "Sorts decending order:  [8, 4, 3, 2, 1, 0]\n",
            "Reverse value:  [0, 1, 2, 3, 4, 8]\n",
            "[0, 1, 2, 3, 4, 5, 8]\n",
            "[4, 6, 2]\n"
          ]
        }
      ]
    }
  ]
}