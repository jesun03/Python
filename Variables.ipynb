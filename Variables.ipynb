{
  "nbformat": 4,
  "nbformat_minor": 0,
  "metadata": {
    "colab": {
      "provenance": [],
      "authorship_tag": "ABX9TyO/MhzmVxNAHNW5XSg2ccKi",
      "include_colab_link": true
    },
    "kernelspec": {
      "name": "python3",
      "display_name": "Python 3"
    },
    "language_info": {
      "name": "python"
    }
  },
  "cells": [
    {
      "cell_type": "markdown",
      "metadata": {
        "id": "view-in-github",
        "colab_type": "text"
      },
      "source": [
        "<a href=\"https://colab.research.google.com/github/jesun03/Python/blob/main/Variables.ipynb\" target=\"_parent\"><img src=\"https://colab.research.google.com/assets/colab-badge.svg\" alt=\"Open In Colab\"/></a>"
      ]
    },
    {
      "cell_type": "code",
      "execution_count": 2,
      "metadata": {
        "colab": {
          "base_uri": "https://localhost:8080/"
        },
        "id": "P-uyVFV6RDWC",
        "outputId": "658c59b6-f51c-425a-8878-886856b30f47"
      },
      "outputs": [
        {
          "output_type": "stream",
          "name": "stdout",
          "text": [
            "My Name is:  Noman\n",
            "My age is:  21\n",
            "My weight is:  65.2\n"
          ]
        }
      ],
      "source": [
        "name = \"Noman\"\n",
        "age = 21\n",
        "weight = 65.2\n",
        "\n",
        "print(\"My Name is: \",name)\n",
        "print(\"My age is: \",age)\n",
        "print(\"My weight is: \",weight)"
      ]
    }
  ]
}