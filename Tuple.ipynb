{
  "nbformat": 4,
  "nbformat_minor": 0,
  "metadata": {
    "colab": {
      "provenance": [],
      "authorship_tag": "ABX9TyOaf1Enwtvtk16227hcPDl/",
      "include_colab_link": true
    },
    "kernelspec": {
      "name": "python3",
      "display_name": "Python 3"
    },
    "language_info": {
      "name": "python"
    }
  },
  "cells": [
    {
      "cell_type": "markdown",
      "metadata": {
        "id": "view-in-github",
        "colab_type": "text"
      },
      "source": [
        "<a href=\"https://colab.research.google.com/github/jesun03/Python/blob/Python-Learning/Tuple.ipynb\" target=\"_parent\"><img src=\"https://colab.research.google.com/assets/colab-badge.svg\" alt=\"Open In Colab\"/></a>"
      ]
    },
    {
      "cell_type": "code",
      "execution_count": 3,
      "metadata": {
        "colab": {
          "base_uri": "https://localhost:8080/"
        },
        "id": "Vt-DUXPmUiMc",
        "outputId": "6b639afb-06f3-4316-8ca9-dee6d4a68a1d"
      },
      "outputs": [
        {
          "output_type": "stream",
          "name": "stdout",
          "text": [
            "<class 'tuple'>\n",
            "(87, 54, 34, 65, 23)\n",
            "34\n"
          ]
        }
      ],
      "source": [
        "tup = (87, 54, 34, 65, 23)\n",
        "print(type(tup))\n",
        "print(tup)\n",
        "print(tup[2])"
      ]
    },
    {
      "cell_type": "code",
      "source": [
        "tup = \"Hello\"\n",
        "print(type(tup))\n",
        "\n",
        "tup1 = \"Hi\",      #when use string then use after \"\", use comma.\n",
        "print(type(tup1))\n",
        "print(tup)\n",
        "print(tup1)"
      ],
      "metadata": {
        "colab": {
          "base_uri": "https://localhost:8080/"
        },
        "id": "dAygU5SOVs2U",
        "outputId": "11d8db9c-941f-4828-e5d8-a1220e42d1f9"
      },
      "execution_count": 6,
      "outputs": [
        {
          "output_type": "stream",
          "name": "stdout",
          "text": [
            "<class 'str'>\n",
            "<class 'tuple'>\n",
            "Hello\n",
            "('Hi',)\n"
          ]
        }
      ]
    },
    {
      "cell_type": "code",
      "source": [
        "#Tuple Methods\n",
        "\n",
        "tup = (2,4,3,7,9)\n",
        "print(\"INDEX:\", tup.index(4))\n",
        "\n",
        "\n",
        "tup1 = (2,5,2,5,1,5,8,3)\n",
        "print(\"Count: \",tup1.count(5))\n"
      ],
      "metadata": {
        "colab": {
          "base_uri": "https://localhost:8080/"
        },
        "id": "wZ80kDfjXU7x",
        "outputId": "da0206c5-e99d-408f-c15e-4d6272e018a6"
      },
      "execution_count": 10,
      "outputs": [
        {
          "output_type": "stream",
          "name": "stdout",
          "text": [
            "INDEX: 1\n",
            "Count:  3\n"
          ]
        }
      ]
    },
    {
      "cell_type": "code",
      "source": [
        "\n",
        "#PP: WAP to ask the user to enter names of their 3 favourite movies & store them in a list\n",
        "movies = []\n",
        "mov1 = input(\"Enter 1st movies: \")\n",
        "mov2 = input(\"Enter 2nd movies: \")\n",
        "mov3 = input(\"Enter 3rd movies: \")\n",
        "\n",
        "movies.append(mov1)\n",
        "movies.append(mov2)\n",
        "movies.append(mov3)\n",
        "print(movies)\n"
      ],
      "metadata": {
        "colab": {
          "base_uri": "https://localhost:8080/"
        },
        "id": "qJ0OGLStZc0k",
        "outputId": "1fb50dc8-a639-4d0d-fe42-9bd85c2bd03d"
      },
      "execution_count": 8,
      "outputs": [
        {
          "output_type": "stream",
          "name": "stdout",
          "text": [
            "Enter 1st movies: Spider Man\n",
            "Enter 2nd movies: Avesham\n",
            "Enter 3rd movies: Sita Ramman\n",
            "['Spider Man', 'Avesham', 'Sita Ramman']\n"
          ]
        }
      ]
    },
    {
      "cell_type": "code",
      "source": [
        "#WAP to check if a list contains a palindrome of elements\n",
        "list1 = [1, 2, 3, 2, 1]\n",
        "list2 = [3, 6, 9]\n",
        "copy_list1 = list1.copy()\n",
        "copy_list1.reverse()\n",
        "\n",
        "if(copy_list1 == list1):\n",
        "  print(\"palindrome\")\n",
        "else:\n",
        "  print(\"Not palindrome\")\n"
      ],
      "metadata": {
        "colab": {
          "base_uri": "https://localhost:8080/"
        },
        "id": "bEOvOIuEL7TE",
        "outputId": "d57fbd51-76e8-4393-9871-7043797d9e14"
      },
      "execution_count": 23,
      "outputs": [
        {
          "output_type": "stream",
          "name": "stdout",
          "text": [
            "palindrome\n"
          ]
        }
      ]
    },
    {
      "cell_type": "code",
      "source": [
        "#WAP to count the number of student with the \"A\" grade in from tuple to the user.\n",
        "grade = ()\n",
        "grade = input(\"Enter the grade: \")\n",
        "print(grade.count(\"A\"))\n"
      ],
      "metadata": {
        "colab": {
          "base_uri": "https://localhost:8080/"
        },
        "id": "eroPKV2oQlE8",
        "outputId": "d05c02af-8460-4009-aa54-c6ed51337f89"
      },
      "execution_count": 34,
      "outputs": [
        {
          "output_type": "stream",
          "name": "stdout",
          "text": [
            "Enter the grade: A,B,B,C,A,D,A,D,C,B,A\n",
            "4\n"
          ]
        }
      ]
    }
  ]
}